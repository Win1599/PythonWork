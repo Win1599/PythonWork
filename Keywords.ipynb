{
 "cells": [
  {
   "cell_type": "code",
   "execution_count": 3,
   "metadata": {},
   "outputs": [
    {
     "name": "stdout",
     "output_type": "stream",
     "text": [
      "0\n",
      "1\n",
      "2\n",
      "3\n",
      "4\n",
      "5\n"
     ]
    }
   ],
   "source": [
    "#------Break Keyword----------\n",
    "#Notebook: It is used to stop the excecution of a loop even if the looping condition is true.\n",
    "\n",
    "for i in range(0,6):\n",
    "    print(i)\n",
    "    if i==5:\n",
    "        break\n"
   ]
  },
  {
   "cell_type": "code",
   "execution_count": 15,
   "metadata": {},
   "outputs": [
    {
     "name": "stdout",
     "output_type": "stream",
     "text": [
      "2\n",
      "4\n",
      "6\n",
      "8\n",
      "10\n",
      "12\n",
      "14\n",
      "16\n",
      "18\n",
      "20\n"
     ]
    }
   ],
   "source": [
    "#Write the python program to check all even numbers between 1 - 20 using range of 1-50\n",
    "\n",
    "for i in range(1,50):\n",
    "    if i%2==0:\n",
    "        print(i)\n",
    "    if i==21:\n",
    "        break"
   ]
  },
  {
   "cell_type": "code",
   "execution_count": 16,
   "metadata": {},
   "outputs": [
    {
     "name": "stdout",
     "output_type": "stream",
     "text": [
      "1\n",
      "2\n",
      "3\n",
      "4\n",
      "5\n",
      "6\n",
      "7\n",
      "8\n",
      "9\n",
      "Outside the loop!\n"
     ]
    }
   ],
   "source": [
    "for i in range(1,10):\n",
    "    print(i)\n",
    "else:\n",
    "    print(\"Outside the loop!\")  # its printed bcoz loop ends , forllop condition is false bcoz of end of the loop"
   ]
  },
  {
   "cell_type": "code",
   "execution_count": 19,
   "metadata": {},
   "outputs": [
    {
     "name": "stdout",
     "output_type": "stream",
     "text": [
      "1\n",
      "2\n",
      "3\n",
      "4\n",
      "5\n"
     ]
    }
   ],
   "source": [
    "for i in range(1,10):\n",
    "    print(i)\n",
    "    if i==5:\n",
    "        break\n",
    "else:\n",
    "    print(\"Outside the loop!\")  #here else will not excecuted bcoz forloop condition is still true i break at i==5 but range is upto10\n",
    "                                #Whenever for loop condition is false then else will b printed"
   ]
  },
  {
   "cell_type": "code",
   "execution_count": 20,
   "metadata": {},
   "outputs": [],
   "source": [
    "#in python we can use else block with the looping statements also,\n",
    "#its working is as follows\n",
    "# there are two ways of coming out of the loop:\n",
    "# 1. if the looping condition is false.\n",
    "# 2. if the break statement is executed.\n",
    "\n",
    "# else block excecuted if and only if the loop terminates bcoz of false condition."
   ]
  },
  {
   "cell_type": "code",
   "execution_count": 22,
   "metadata": {},
   "outputs": [
    {
     "name": "stdout",
     "output_type": "stream",
     "text": [
      "Enter a number :7\n",
      "Prime Number\n"
     ]
    }
   ],
   "source": [
    "#Write a python program to check whether a number is prime or or not using break keyword.\n",
    "n=int(input(\"Enter a number :\"))\n",
    "\n",
    "for i in range(2,n):\n",
    "    if n%i==0:\n",
    "        print(\"Not prime\")\n",
    "        break              #if number is not prime we found out becoz of factors , if we found out one factor to proove its not prime\n",
    "else:                      #then why to check all factors if we know that it has factor and not prime\n",
    "        print(\"Prime Number\")"
   ]
  },
  {
   "cell_type": "code",
   "execution_count": 24,
   "metadata": {},
   "outputs": [
    {
     "name": "stdout",
     "output_type": "stream",
     "text": [
      "Enter a number :5\n",
      "Prime Number\n"
     ]
    }
   ],
   "source": [
    "n=int(input(\"Enter a number :\"))\n",
    "if n==0 or n==1 or n==2:\n",
    "    print(\"Please try some other number\")\n",
    "    \n",
    "else:\n",
    "    for i in range(2,n):\n",
    "        if n%i==0:\n",
    "            print(\"Not prime\")\n",
    "            break              \n",
    "    else:  \n",
    "        print(\"Prime Number\")"
   ]
  },
  {
   "cell_type": "code",
   "execution_count": null,
   "metadata": {},
   "outputs": [],
   "source": []
  }
 ],
 "metadata": {
  "kernelspec": {
   "display_name": "Python 3",
   "language": "python",
   "name": "python3"
  },
  "language_info": {
   "codemirror_mode": {
    "name": "ipython",
    "version": 3
   },
   "file_extension": ".py",
   "mimetype": "text/x-python",
   "name": "python",
   "nbconvert_exporter": "python",
   "pygments_lexer": "ipython3",
   "version": "3.7.4"
  }
 },
 "nbformat": 4,
 "nbformat_minor": 2
}
