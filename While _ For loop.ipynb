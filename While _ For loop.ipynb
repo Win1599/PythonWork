{
 "cells": [
  {
   "cell_type": "code",
   "execution_count": 37,
   "metadata": {},
   "outputs": [
    {
     "name": "stdout",
     "output_type": "stream",
     "text": [
      "0\n",
      "1\n",
      "2\n",
      "3\n",
      "4\n",
      "5\n",
      "6\n",
      "7\n",
      "8\n",
      "9\n",
      "10\n",
      "11\n",
      "12\n",
      "13\n",
      "14\n",
      "15\n",
      "16\n",
      "17\n",
      "18\n",
      "19\n",
      "20\n"
     ]
    }
   ],
   "source": [
    "#1.------------While Loop---------------\n",
    "\n",
    "#Use ICL Rule (Initialising , Condition ,Looping)\n",
    "\n",
    "#print 0-20\n",
    "\n",
    "i=0\n",
    "while i<=20:\n",
    "    print(i)\n",
    "    i=i+1"
   ]
  },
  {
   "cell_type": "code",
   "execution_count": 38,
   "metadata": {},
   "outputs": [
    {
     "name": "stdout",
     "output_type": "stream",
     "text": [
      "2\n",
      "4\n",
      "6\n",
      "8\n",
      "10\n",
      "12\n",
      "14\n",
      "16\n",
      "18\n",
      "20\n"
     ]
    }
   ],
   "source": [
    "#Write a python program to print all even numbers from 1 to 20\n",
    "\n",
    "i=1 #I\n",
    "\n",
    "while i<=20:  #C\n",
    "    if i%2==0:\n",
    "        print(i)\n",
    "    i=i+1  #L"
   ]
  },
  {
   "cell_type": "code",
   "execution_count": 39,
   "metadata": {},
   "outputs": [
    {
     "name": "stdout",
     "output_type": "stream",
     "text": [
      "1\n",
      "3\n",
      "5\n",
      "7\n",
      "9\n",
      "11\n",
      "13\n",
      "15\n",
      "17\n",
      "19\n"
     ]
    }
   ],
   "source": [
    "#Write a python program to print odd numbers from 1-20\n",
    "\n",
    "i=1\n",
    "while i<=20:\n",
    "    if i%2 !=0:\n",
    "        print(i)\n",
    "    i=i+1"
   ]
  },
  {
   "cell_type": "code",
   "execution_count": 44,
   "metadata": {},
   "outputs": [
    {
     "name": "stdout",
     "output_type": "stream",
     "text": [
      "Enter a Number :7\n",
      "7 x 1 = 7\n",
      "7 x 2 = 14\n",
      "7 x 3 = 21\n",
      "7 x 4 = 28\n",
      "7 x 5 = 35\n",
      "7 x 6 = 42\n",
      "7 x 7 = 49\n",
      "7 x 8 = 56\n",
      "7 x 9 = 63\n",
      "7 x 10 = 70\n"
     ]
    }
   ],
   "source": [
    "#Write a python program to print multiplicative table of given number\n",
    "\n",
    "n=int(input(\"Enter a Number :\"))\n",
    "i=1\n",
    "\n",
    "while i<=10:\n",
    "    print(n,\"x\",i,\"=\",n*i)  #or print(n*i)\n",
    "    i=i+1"
   ]
  },
  {
   "cell_type": "code",
   "execution_count": 45,
   "metadata": {},
   "outputs": [
    {
     "name": "stdout",
     "output_type": "stream",
     "text": [
      "1\n",
      "2\n",
      "3\n",
      "4\n",
      "5\n",
      "6\n",
      "7\n",
      "8\n",
      "9\n",
      "10\n",
      "2\n",
      "4\n",
      "6\n",
      "8\n",
      "10\n",
      "12\n",
      "14\n",
      "16\n",
      "18\n",
      "20\n",
      "1\n",
      "3\n",
      "5\n",
      "7\n",
      "9\n",
      "11\n",
      "13\n",
      "15\n",
      "17\n",
      "19\n"
     ]
    }
   ],
   "source": [
    "#2.---------For loop Statement------------\n",
    "\n",
    "# range() - use to return numbers of that range eg. range(10)-0-9, range(2,20)- 2 to 19\n",
    "# range(10) =0-9\n",
    "# range(2,20)= 2-19\n",
    "# range(2,20,3) = 2,5,8,11.......17(check upto 19)\n",
    "\n",
    "\n",
    "#from 1-10\n",
    "\n",
    "for x in range(1,11):\n",
    "    print(x)\n",
    "    \n",
    "#------------------------------------\n",
    "#to print even numbers from 1-20\n",
    "for i in range(2,21,2):\n",
    "    print(i)\n",
    "    \n",
    "    \n",
    "#to print odd numbers from 1-20\n",
    "for i in range(1,21,2):\n",
    "    print(i)"
   ]
  },
  {
   "cell_type": "code",
   "execution_count": 46,
   "metadata": {},
   "outputs": [
    {
     "name": "stdout",
     "output_type": "stream",
     "text": [
      "Enter the number :8\n",
      "1\n",
      "2\n",
      "4\n",
      "8\n"
     ]
    }
   ],
   "source": [
    "#Factors of the given number\n",
    "\n",
    "n=int(input(\"Enter the number :\"))\n",
    "\n",
    "for i in range(1,n+1):\n",
    "    if n%i==0:\n",
    "        print(i)"
   ]
  },
  {
   "cell_type": "code",
   "execution_count": 47,
   "metadata": {},
   "outputs": [
    {
     "name": "stdout",
     "output_type": "stream",
     "text": [
      "Enter the number :9\n",
      "1\n",
      "3\n",
      "Its not a Perfect Number !!!\n"
     ]
    }
   ],
   "source": [
    "# Write a python program to accept the number from a user and check whether the given number is a perfect number or not\n",
    "# addition of factors == Original Number\n",
    "# eg 1+2+3 == 6\n",
    "\n",
    "m=int(input(\"Enter the number :\"))\n",
    "fact=0\n",
    "\n",
    "for i in range(1,m):\n",
    "    if m%i == 0:\n",
    "        print(i)\n",
    "        fact=fact+i\n",
    "if fact== m:\n",
    "    print(\"its perfect number !\")\n",
    "\n",
    "else:\n",
    "    print(\"Its not a Perfect Number !!!\")\n",
    "     \n",
    "\n",
    "\n",
    "\n"
   ]
  },
  {
   "cell_type": "code",
   "execution_count": null,
   "metadata": {},
   "outputs": [],
   "source": []
  },
  {
   "cell_type": "code",
   "execution_count": null,
   "metadata": {},
   "outputs": [],
   "source": []
  }
 ],
 "metadata": {
  "kernelspec": {
   "display_name": "Python 3",
   "language": "python",
   "name": "python3"
  },
  "language_info": {
   "codemirror_mode": {
    "name": "ipython",
    "version": 3
   },
   "file_extension": ".py",
   "mimetype": "text/x-python",
   "name": "python",
   "nbconvert_exporter": "python",
   "pygments_lexer": "ipython3",
   "version": "3.7.4"
  }
 },
 "nbformat": 4,
 "nbformat_minor": 2
}
