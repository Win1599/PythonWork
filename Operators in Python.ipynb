{
 "cells": [
  {
   "cell_type": "code",
   "execution_count": 4,
   "metadata": {},
   "outputs": [],
   "source": [
    "#-----------------Operators in Python-------------------\n",
    "# 1.Arithmetic Operators\n",
    "# 2.Assignment Operators\n",
    "# 3.Comparison Operators\n",
    "# 4.Identity Operators\n",
    "# 5.Membership Operators\n"
   ]
  },
  {
   "cell_type": "code",
   "execution_count": 5,
   "metadata": {},
   "outputs": [
    {
     "name": "stdout",
     "output_type": "stream",
     "text": [
      "13\n",
      "7\n",
      "30\n",
      "3.3333333333333335\n",
      "3\n",
      "1000\n"
     ]
    }
   ],
   "source": [
    "# 1.----Arithmetic Operators----(+ , - , / , // , * , **)\n",
    "\n",
    "m=10\n",
    "n=3\n",
    "\n",
    "sum=m+n\n",
    "\n",
    "print(sum)\n",
    "\n",
    "sub=m-n\n",
    "\n",
    "print(sub)\n",
    "\n",
    "mult=m*n\n",
    "\n",
    "print(mult)\n",
    "\n",
    "div=m/n\n",
    "\n",
    "print(div)\n",
    "\n",
    "floordiv= m//n\n",
    "\n",
    "print(floordiv)\n",
    "\n",
    "raiseto=m**n\n",
    "\n",
    "print(raiseto)\n",
    "\n"
   ]
  },
  {
   "cell_type": "code",
   "execution_count": 15,
   "metadata": {},
   "outputs": [
    {
     "name": "stdout",
     "output_type": "stream",
     "text": [
      "5\n",
      "3\n",
      "8\n",
      "2.0\n",
      "2\n",
      "0\n",
      "16\n"
     ]
    }
   ],
   "source": [
    "# 2.----Assignment Operators-----(= , += , -= , *= , /= , %= , //= , **= )\n",
    "\n",
    "a=4\n",
    "\n",
    "a+=1           #Addition a is increment by 1\n",
    "print(a)\n",
    "\n",
    "b=4 \n",
    "b-=1             #Substraction  b is decement by 1\n",
    "print(b)\n",
    "\n",
    "c=4\n",
    "c*=2   #c=c*2    #Multiplication c is multiply by 2  4*2=8\n",
    "print(c)\n",
    "\n",
    "d=4\n",
    "d/=2          #division  4 is divided by 2 ,4/2=2     \n",
    "print(d)\n",
    "\n",
    "d=4\n",
    "d//=2          #Floor division    4//2=2\n",
    "print(d)\n",
    "\n",
    "e=4\n",
    "e%=2            #remainder 4%2 =0\n",
    "print(e)\n",
    "\n",
    "f=4\n",
    "f **=2          #4 raiseto 2  =16\n",
    "print(f)"
   ]
  },
  {
   "cell_type": "code",
   "execution_count": 16,
   "metadata": {},
   "outputs": [],
   "source": [
    "# 3.-----Comparison Operators-----(< , > , <= , >= , !=)"
   ]
  },
  {
   "cell_type": "code",
   "execution_count": 18,
   "metadata": {},
   "outputs": [
    {
     "name": "stdout",
     "output_type": "stream",
     "text": [
      "Enter any number :2\n",
      "Enter Any alphabet or string :ac\n",
      "Not equal\n"
     ]
    }
   ],
   "source": [
    "# 4.-----Identity Operators------( is , is not)\n",
    "\n",
    "m=int(input(\"Enter any number :\"))\n",
    "n=input(\"Enter Any alphabet or string :\")\n",
    "\n",
    "if m is n:\n",
    "    print(\"Equal\")\n",
    "\n",
    "else:\n",
    "    print(\"Not equal\")"
   ]
  },
  {
   "cell_type": "code",
   "execution_count": 2,
   "metadata": {},
   "outputs": [
    {
     "name": "stdout",
     "output_type": "stream",
     "text": [
      "Found\n"
     ]
    }
   ],
   "source": [
    "# 5.----Membership Operators-----(in , not in)\n",
    "\n",
    "x=\"Ashwin Shriyan\"\n",
    "y=\"in Sh\"\n",
    "\n",
    "if y in x:\n",
    "    print(\"Found\")\n",
    "else:\n",
    "    print(\"Not found\")"
   ]
  },
  {
   "cell_type": "code",
   "execution_count": null,
   "metadata": {},
   "outputs": [],
   "source": []
  }
 ],
 "metadata": {
  "kernelspec": {
   "display_name": "Python 3",
   "language": "python",
   "name": "python3"
  },
  "language_info": {
   "codemirror_mode": {
    "name": "ipython",
    "version": 3
   },
   "file_extension": ".py",
   "mimetype": "text/x-python",
   "name": "python",
   "nbconvert_exporter": "python",
   "pygments_lexer": "ipython3",
   "version": "3.7.4"
  }
 },
 "nbformat": 4,
 "nbformat_minor": 2
}
