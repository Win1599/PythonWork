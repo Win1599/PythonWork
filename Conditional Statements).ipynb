{
 "cells": [
  {
   "cell_type": "code",
   "execution_count": 1,
   "metadata": {},
   "outputs": [
    {
     "name": "stdout",
     "output_type": "stream",
     "text": [
      "Enter a number : 12\n",
      "Number is Even\n",
      "Event Number\n"
     ]
    }
   ],
   "source": [
    "#-----Conditional Statements in Python-----(if , else , elif)\n",
    "\n",
    "\n",
    "# 1. if satatement\n",
    "\n",
    "#   /=division (quotient),      \n",
    "#   %= Modulo division (remainder)\n",
    "\n",
    "n= int(input(\"Enter a number : \"))\n",
    "\n",
    "if n%2 == 0:\n",
    "    print(\"Number is Even\")\n",
    "    print(\"Event Number\")\n",
    "\n",
    "if n%2 != 0:\n",
    "    print(\"Number is Odd\")\n"
   ]
  },
  {
   "cell_type": "code",
   "execution_count": 2,
   "metadata": {},
   "outputs": [
    {
     "name": "stdout",
     "output_type": "stream",
     "text": [
      "Enter a number to check number is divisible by 7 or not :14\n",
      "Yes its divisible by 7 !\n"
     ]
    }
   ],
   "source": [
    "#Write a Program to check number is divisible by 7 or not\n",
    "\n",
    "m=int(input(\"Enter a number to check number is divisible by 7 or not :\"))\n",
    "\n",
    "if m%7 == 0:\n",
    "    print(\"Yes its divisible by 7 !\")\n",
    "if m%7 != 0:\n",
    "    print(\"No its not divisible by 7 !\")"
   ]
  },
  {
   "cell_type": "code",
   "execution_count": null,
   "metadata": {},
   "outputs": [],
   "source": [
    "# 2. else statement\n",
    "\n",
    "m=int(input(\"Enter a number :\"))\n",
    "\n",
    "if m%2 == 0:\n",
    "    print(\"Even number !\")\n",
    "else:\n",
    "    print(\"Odd number ! \")"
   ]
  },
  {
   "cell_type": "code",
   "execution_count": null,
   "metadata": {},
   "outputs": [],
   "source": [
    "# 3. elif statement\n",
    "\n",
    "s=input(\"Enter a alphabet:\")\n",
    "\n",
    "if s=='a'or 'A':\n",
    "    print(\"A for apple\")\n",
    "\n",
    "elif s=='b' or 'B':\n",
    "    print(\"B for bat\")\n",
    "    \n",
    "elif s=='c'or 'C':\n",
    "    print(\"C for cat\")\n",
    "\n",
    "elif s=='d' or 'D':\n",
    "    print(\"D for Dog\")\n",
    "    \n",
    "else:\n",
    "    print(\"Work in progress...\")"
   ]
  },
  {
   "cell_type": "code",
   "execution_count": null,
   "metadata": {},
   "outputs": [],
   "source": [
    "#Assignment\n",
    "#writw a python program that check whether the given number is divisible by 7 or not if its divisible then check whether it is even or odd\n",
    "\n",
    "m=int(input(\"Enter a number :\"))\n",
    "if m%7==0:\n",
    "    if m%2==0:\n",
    "        print(\"Even Number divisible by 7\")\n",
    "    else:\n",
    "        print(\"Odd number divisible by 7\")\n",
    "\n",
    "else:\n",
    "    print(\"Number is not divisible by 7\")\n"
   ]
  },
  {
   "cell_type": "code",
   "execution_count": null,
   "metadata": {},
   "outputs": [],
   "source": [
    "#Assignment\n",
    "#Write a python program to accept  2 numbers from a user and display the greater number ..\n",
    "\n",
    "m=int(input(\"Enter number1 :\"))\n",
    "n=int(input(\"Enter number2 :\"))\n",
    "\n",
    "if m > n:\n",
    "    print(\"m is greater than n\")\n",
    "    \n",
    "else:\n",
    "    print(\"n is greatertahn m\")"
   ]
  }
 ],
 "metadata": {
  "kernelspec": {
   "display_name": "Python 3",
   "language": "python",
   "name": "python3"
  },
  "language_info": {
   "codemirror_mode": {
    "name": "ipython",
    "version": 3
   },
   "file_extension": ".py",
   "mimetype": "text/x-python",
   "name": "python",
   "nbconvert_exporter": "python",
   "pygments_lexer": "ipython3",
   "version": "3.7.4"
  }
 },
 "nbformat": 4,
 "nbformat_minor": 2
}
