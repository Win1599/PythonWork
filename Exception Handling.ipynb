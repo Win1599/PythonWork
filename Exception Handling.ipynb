{
 "cells": [
  {
   "cell_type": "code",
   "execution_count": 2,
   "metadata": {},
   "outputs": [
    {
     "name": "stdout",
     "output_type": "stream",
     "text": [
      "3\n",
      "2\n",
      "2\n"
     ]
    }
   ],
   "source": [
    "#----------Exception Handling-------------\n",
    "#Types: 1.Syntactical 2.Logical 3.Runtime(Exception)\n",
    "\n",
    "#Syntactical\n",
    "def add(a,b):\n",
    "    return a+b   #Syntax is wrong (indentation)\n",
    "x= add(1,2)\n",
    "print(x)\n",
    "\n",
    "#Logical\n",
    "def add(a,b):\n",
    "    return a*b   #Logic is wrong (Operator)\n",
    "x= add(1,2)\n",
    "print(x)\n",
    "\n",
    "#Exception\n",
    "def div(a,b):\n",
    "    return a+b   \n",
    "div(1,0)     #Divide by 0 ,interpreter dont know what to diplay in o/p ,cant handle this type of exception(i/p)\n",
    "print(x)\n",
    "\n"
   ]
  },
  {
   "cell_type": "code",
   "execution_count": 1,
   "metadata": {},
   "outputs": [
    {
     "name": "stdout",
     "output_type": "stream",
     "text": [
      "Enter number :\n",
      "Exception Occured !\n",
      "Hello\n",
      "Hey\n"
     ]
    }
   ],
   "source": [
    "# try , except , else , finally\n",
    "\n",
    "try:\n",
    "    a=int(input(\"Enter number :\"))\n",
    "    b=int(input(\"Enter number :\"))\n",
    "\n",
    "    c=a/b\n",
    "    print(c)\n",
    "\n",
    "except:\n",
    "    \n",
    "    print(\"Exception Occured !\")\n",
    "    \n",
    "    \n",
    "print(\"Hello\")\n",
    "\n",
    "print(\"Hey\")"
   ]
  },
  {
   "cell_type": "code",
   "execution_count": 2,
   "metadata": {},
   "outputs": [
    {
     "name": "stdout",
     "output_type": "stream",
     "text": [
      "Enter number :\n",
      "Please enter numbers !\n"
     ]
    }
   ],
   "source": [
    "# Multiple except blocks\n",
    "\n",
    "try:\n",
    "    a=int(input(\"Enter number :\"))\n",
    "    b=int(input(\"Enter number :\"))\n",
    "    \n",
    "    c=a/b\n",
    "    print(c)\n",
    "    \n",
    "except ValueError:\n",
    "    print(\"Please enter numbers !\")\n",
    "\n",
    "except ZeroDivisionError:\n",
    "    print(\"Cant divide by zero !\")\n",
    "    \n",
    "except:\n",
    "    print(\"Exception Occured !\")  #Other exception"
   ]
  },
  {
   "cell_type": "code",
   "execution_count": 3,
   "metadata": {},
   "outputs": [
    {
     "name": "stdout",
     "output_type": "stream",
     "text": [
      "Enter number :\n",
      "Exception Occured\n"
     ]
    }
   ],
   "source": [
    "#-----------else--------\n",
    "\n",
    "try:\n",
    "    a=int(input(\"Enter number :\"))\n",
    "    b=int(input(\"Enter number :\"))\n",
    "    \n",
    "    c=a/b\n",
    "    print(c)\n",
    "    \n",
    "except:\n",
    "    print(\"Exception Occured\")\n",
    "    \n",
    "else:\n",
    "    print(\"No Exceptions !!!\")"
   ]
  },
  {
   "cell_type": "code",
   "execution_count": null,
   "metadata": {},
   "outputs": [],
   "source": [
    "#---------------Finally----------------\n",
    "\n",
    "try:\n",
    "    a=int(input(\"Enter number :\"))\n",
    "    b=int(input(\"Enter number :\"))\n",
    "    \n",
    "    c=a/b\n",
    "    print(c)\n",
    "    \n",
    "except:\n",
    "    print(\"Exception Occured\")\n",
    "    \n",
    "#else:\n",
    "   # print(\"No Exceptions !!!\")  #Either else or finally\n",
    "    \n",
    "    \n",
    "finally:\n",
    "    print(\"Finally statement\")"
   ]
  },
  {
   "cell_type": "code",
   "execution_count": null,
   "metadata": {},
   "outputs": [],
   "source": [
    "a,b,c=(1,2,3,4,5,6,7,8,9)[1::3]"
   ]
  },
  {
   "cell_type": "code",
   "execution_count": null,
   "metadata": {},
   "outputs": [],
   "source": []
  },
  {
   "cell_type": "code",
   "execution_count": null,
   "metadata": {},
   "outputs": [],
   "source": []
  },
  {
   "cell_type": "code",
   "execution_count": null,
   "metadata": {},
   "outputs": [],
   "source": []
  }
 ],
 "metadata": {
  "kernelspec": {
   "display_name": "Python 3",
   "language": "python",
   "name": "python3"
  },
  "language_info": {
   "codemirror_mode": {
    "name": "ipython",
    "version": 3
   },
   "file_extension": ".py",
   "mimetype": "text/x-python",
   "name": "python",
   "nbconvert_exporter": "python",
   "pygments_lexer": "ipython3",
   "version": "3.7.4"
  }
 },
 "nbformat": 4,
 "nbformat_minor": 2
}
