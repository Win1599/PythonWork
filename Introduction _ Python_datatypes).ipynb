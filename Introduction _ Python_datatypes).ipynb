{
 "cells": [
  {
   "cell_type": "code",
   "execution_count": 2,
   "metadata": {},
   "outputs": [
    {
     "name": "stdout",
     "output_type": "stream",
     "text": [
      "Hello Vrushh\n"
     ]
    }
   ],
   "source": [
    "#to print message\n",
    "print(\"Hello Vrushh\")\n",
    "print(\"Hello Vrushh \" +\"How are you?\" , end=\"  \")"
   ]
  },
  {
   "cell_type": "code",
   "execution_count": 15,
   "metadata": {},
   "outputs": [
    {
     "name": "stdout",
     "output_type": "stream",
     "text": [
      "Addition is  18\n"
     ]
    }
   ],
   "source": [
    "#Python program to write addition of two numbers\n",
    "a=7 \n",
    "b=11\n",
    "c=a+b\n",
    "print(\"Addition is \",c)"
   ]
  },
  {
   "cell_type": "code",
   "execution_count": 21,
   "metadata": {},
   "outputs": [
    {
     "name": "stdout",
     "output_type": "stream",
     "text": [
      "Enter first number :5\n",
      "Enter second number :7\n",
      "num1= 5 num2= 7\n",
      "Addition is :  12\n"
     ]
    }
   ],
   "source": [
    "#Accept the values from the users  *simple input function takes in string\n",
    "a=int(input(\"Enter first number :\"))\n",
    "b=int(input(\"Enter second number :\"))\n",
    "print(\"num1=\",a, \"num2=\",b)\n",
    "\n",
    "res=a+b\n",
    "print(\"Addition is : \",res)   #here we cant ad int + str so type cast is done"
   ]
  },
  {
   "cell_type": "code",
   "execution_count": 22,
   "metadata": {},
   "outputs": [
    {
     "name": "stdout",
     "output_type": "stream",
     "text": [
      "<class 'int'>\n",
      "<class 'float'>\n",
      "<class 'complex'>\n",
      "<class 'str'>\n",
      "<class 'str'>\n"
     ]
    }
   ],
   "source": [
    "#-----Datatypes in Python-----\n",
    "#basically two types\n",
    "#strings and Numbers\n",
    "#character is not a data type , its a string of length 1\n",
    "#Numbers divided into int , float & complex.\n",
    "\n",
    "a=5\n",
    "b=10.5\n",
    "c=3+5j\n",
    "d=\"PHN\"\n",
    "e='Technology'\n",
    "\n",
    "print(type(a))\n",
    "print(type(b))\n",
    "print(type(c))\n",
    "print(type(d))\n",
    "print(type(e))"
   ]
  },
  {
   "cell_type": "code",
   "execution_count": null,
   "metadata": {},
   "outputs": [],
   "source": []
  }
 ],
 "metadata": {
  "kernelspec": {
   "display_name": "Python 3",
   "language": "python",
   "name": "python3"
  },
  "language_info": {
   "codemirror_mode": {
    "name": "ipython",
    "version": 3
   },
   "file_extension": ".py",
   "mimetype": "text/x-python",
   "name": "python",
   "nbconvert_exporter": "python",
   "pygments_lexer": "ipython3",
   "version": "3.7.4"
  }
 },
 "nbformat": 4,
 "nbformat_minor": 2
}
