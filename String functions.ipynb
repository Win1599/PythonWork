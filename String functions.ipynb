{
 "cells": [
  {
   "cell_type": "code",
   "execution_count": 2,
   "metadata": {},
   "outputs": [
    {
     "name": "stdout",
     "output_type": "stream",
     "text": [
      "Ashwin Shriyan\n",
      "Python\n",
      "h\n",
      "n\n",
      "hwin\n",
      "n\n",
      "r\n",
      "riya\n",
      "Ashwin Shriyan\n",
      "A s h w i n   S h r i y a n Found\n"
     ]
    }
   ],
   "source": [
    "#--------------Strings----------------\n",
    "#Character arrays\n",
    "\n",
    "s ='Ashwin Shriyan'\n",
    "s1=\"Python\"\n",
    "print(s)\n",
    "print(s1)\n",
    "\n",
    "print(s[2])\n",
    "\n",
    "print(s[5])\n",
    "\n",
    "print(s[2:6]) #it works like range\n",
    "\n",
    "print(s[-1])\n",
    "\n",
    "print(s[-5])\n",
    "\n",
    "print(s[-5:-1])\n",
    "\n",
    "print(s)\n",
    "\n",
    "#for seperating in characters use for\n",
    "\n",
    "for x in s:\n",
    "    print(x , end=\" \")\n",
    "    \n",
    "if \"shw\" in s:\n",
    "    print(\"Found\")\n",
    "else:\n",
    "    print(\"Not Found\")\n",
    "\n"
   ]
  },
  {
   "cell_type": "code",
   "execution_count": 3,
   "metadata": {},
   "outputs": [
    {
     "name": "stdout",
     "output_type": "stream",
     "text": [
      "Uppercase is : ASHWIN SHRIYAN\n",
      "Lowercase is : ashwin shriyan\n",
      "Title is capital : Ashwin Shriyan\n",
      "First letter of line is capital : Ashwin shriyan\n",
      "Ashwi is replaced by Brush Brushn Shriyan\n",
      "o is replaced by p Ashwin Shriyan\n"
     ]
    }
   ],
   "source": [
    "#----String Functions-----------(upper() , lower() , title() , capitalize() , replace() )\n",
    "\n",
    "s1= s.upper()\n",
    "\n",
    "print(\"Uppercase is :\", s1)\n",
    "\n",
    "\n",
    "s1=s.lower()\n",
    "print(\"Lowercase is :\",s1)\n",
    "\n",
    "s1=s.title()\n",
    "print(\"Title is capital :\",s1)\n",
    "\n",
    "s1=s.capitalize()\n",
    "print(\"First letter of line is capital :\",s1)\n",
    "\n",
    "s1=s.replace(\"Ashwi\",\"Brush\")\n",
    "print(\"Ashwi is replaced by Brush\",s1)\n",
    "\n",
    "s1=s.replace(\"o\",\"p\")\n",
    "print(\"o is replaced by p\",s1)\n",
    "\n",
    "\n",
    "#keep in mind that all vlaues of s1 are overriding ,now s1 contains only last valueof function"
   ]
  },
  {
   "cell_type": "code",
   "execution_count": 3,
   "metadata": {},
   "outputs": [
    {
     "name": "stdout",
     "output_type": "stream",
     "text": [
      "True\n",
      "False\n",
      "False\n",
      "True\n"
     ]
    }
   ],
   "source": [
    "#-------(isalpha() , isdigit())------------\n",
    "\n",
    "s=\"abcd\"\n",
    "print(s.isalpha())  # to check whether all characters are alphabets or not\n",
    "\n",
    "u=\"abcd2\" #number so false\n",
    "print(u.isalpha()) \n",
    "\n",
    "v=\"abcd \" #spaceso false\n",
    "print(v.isalpha()) \n",
    "\n",
    "t=\"1234\"\n",
    "print(t.isdigit())  # to check whether all characters are numbers or not"
   ]
  },
  {
   "cell_type": "code",
   "execution_count": 4,
   "metadata": {},
   "outputs": [],
   "source": [
    "#Write a pyhton program to accept a string from user this string is considered as password and you have to apply \n",
    "# below verifications for the password\n",
    "#1. password should be minimum 6 digit and maximum 20 digit\n",
    "#2. password should contain atleast 1 capital letter , 1 alphabet , 1 spcl symbol and one digit\n"
   ]
  },
  {
   "cell_type": "code",
   "execution_count": 4,
   "metadata": {},
   "outputs": [
    {
     "name": "stdout",
     "output_type": "stream",
     "text": [
      "Enter a string :Ashwin@30\n",
      "True,True,True\n",
      "Valid pass\n"
     ]
    }
   ],
   "source": [
    "#Write a pyhton program to accept a string from user this string is considered as password and you have to apply \n",
    "# below verifications for the password\n",
    "#1. password should be minimum 6 digit and maximum 20 digit\n",
    "#2. password should contain atleast 1 capital letter , 1 alphabet , 1 spcl symbol and one digit\n",
    "\n",
    "#--------split() function-------------\n",
    "pass1=input(\"Enter a string :\")\n",
    "\n",
    "leng=len(pass1)\n",
    "#print(leng)\n",
    "l=False\n",
    "n=False\n",
    "a=False\n",
    "c=False\n",
    "s=False\n",
    "\n",
    "if leng>=6 and leng<=20:\n",
    "    l=True\n",
    "else:\n",
    "    print(\"Innv Password check length!!\")\n",
    "if l:\n",
    "    for i in range(0,leng):\n",
    "        #if not(pass1[i].isalpha() or pass1[i].isupper() or pass1[i].isdigit()):\n",
    "        if pass1[i].isdigit():\n",
    "            n=True\n",
    "            \n",
    "        elif pass1[i].isalpha():\n",
    "            a=True\n",
    "            \n",
    "       # elif pass1[i]== pass1[i].upper():\n",
    "            #c=True\n",
    "            \n",
    "        else:\n",
    "            s=True\n",
    "            \n",
    "      \n",
    "       # elif pass1[i]==pass1[i].upper():\n",
    "           # c=True\n",
    "           # continue\n",
    "       # elif ord(pass1[i]) in range(48,58):\n",
    "           # s=True\n",
    "            #continue\n",
    "        #elif n!=True and a!=True and c!=True:\n",
    "            #s=True\n",
    "print(f'{n},{a},{s}')\n",
    "if n==True and a==True and s==True :\n",
    "    \n",
    "    print(\"Valid pass\")\n",
    "else:\n",
    "    print(\"Invalid Pass\")"
   ]
  },
  {
   "cell_type": "code",
   "execution_count": 73,
   "metadata": {},
   "outputs": [
    {
     "name": "stdout",
     "output_type": "stream",
     "text": [
      "Enter a string containing sa :nouersh;on\n",
      "10\n",
      "nouersh;on\n"
     ]
    }
   ],
   "source": [
    "#Write a python program to accept a string from user,\n",
    "#Replace all occurances of 'a'followed by 's' with 'd'\n",
    "x=input(\"Enter a string containing sa :\")\n",
    "l=len(x)\n",
    "print(l)\n",
    "for i in range(0,l):\n",
    "    if x[i]==\"s\" and x[i+1]==\"a\":\n",
    "        x=x[0:i+1]+\"d\"+x[i+2:]   #can use replace() \n",
    "print(x)"
   ]
  },
  {
   "cell_type": "code",
   "execution_count": 5,
   "metadata": {},
   "outputs": [
    {
     "name": "stdout",
     "output_type": "stream",
     "text": [
      "Enter a string :Ash@30\n",
      "True,True,True,False\n",
      "Invaid Pass\n"
     ]
    }
   ],
   "source": [
    "# By Ash\n",
    "\n",
    "#Write a pyhton program to accept a string from user this string is considered as password and you have to apply \n",
    "# below verifications for the password\n",
    "#1. password should be minimum 6 digit and maximum 20 digit\n",
    "#2. password should contain atleast 1 capital letter , 1 alphabet , 1 spcl symbol and one digit\n",
    "\n",
    "\n",
    "pass1=input(\"Enter a string :\")\n",
    "\n",
    "leng=len(pass1)\n",
    "#print(leng)\n",
    "l=False\n",
    "n=False\n",
    "a=False\n",
    "c=False\n",
    "s=False\n",
    "\n",
    "if leng>=6 and leng<=20:\n",
    "    l=True\n",
    "else:\n",
    "    print(\"Innv Password!!\")\n",
    "if l:\n",
    "    for i in range(0,leng):\n",
    "        if not(pass1[i].isalpha() or pass1[i].isupper() or pass1[i].isdigit()):\n",
    "            n=True\n",
    "            continue\n",
    "        elif pass1[i].isalpha():\n",
    "            a=True\n",
    "            continue\n",
    "        elif pass1[i]==pass1[i].upper():\n",
    "            c=True\n",
    "            continue\n",
    "        elif ord(pass1[i]) in range(48,58):\n",
    "            s=True\n",
    "            continue\n",
    "print(f'{n},{a},{c},{s}')\n",
    "if ((n and a) and (c and s)):\n",
    "    print(\"Valid pass\")\n",
    "else:\n",
    "    print(\"Invaid Pass\")"
   ]
  },
  {
   "cell_type": "code",
   "execution_count": null,
   "metadata": {},
   "outputs": [],
   "source": []
  }
 ],
 "metadata": {
  "kernelspec": {
   "display_name": "Python 3",
   "language": "python",
   "name": "python3"
  },
  "language_info": {
   "codemirror_mode": {
    "name": "ipython",
    "version": 3
   },
   "file_extension": ".py",
   "mimetype": "text/x-python",
   "name": "python",
   "nbconvert_exporter": "python",
   "pygments_lexer": "ipython3",
   "version": "3.7.4"
  }
 },
 "nbformat": 4,
 "nbformat_minor": 2
}
