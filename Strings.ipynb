{
 "cells": [
  {
   "cell_type": "code",
   "execution_count": 1,
   "metadata": {},
   "outputs": [
    {
     "name": "stdout",
     "output_type": "stream",
     "text": [
      "12\n",
      "H\n",
      "o\n",
      "w\n",
      " \n",
      "a\n",
      "r\n",
      "e\n",
      " \n",
      "y\n",
      "o\n",
      "u\n",
      "!\n",
      "-------------\n",
      "H\n",
      "o\n",
      "w\n",
      " \n",
      "a\n",
      "r\n",
      "e\n",
      " \n",
      "y\n",
      "o\n",
      "u\n",
      "!\n",
      "----------------------------------------\n",
      "Length is : 12\n"
     ]
    }
   ],
   "source": [
    "#-------------STRINGS---------------------\n",
    "\n",
    "s='How are you!'\n",
    "\n",
    "a=len(s)\n",
    "print(a)\n",
    "\n",
    "for i in range(0,a):\n",
    "    print(s[i])\n",
    " \n",
    "print(\"-------------\")\n",
    "\n",
    "for i in s:\n",
    "    print(i)\n",
    "    \n",
    "print(\"----------------------------------------\")    \n",
    "print(\"Length is :\",len(s))"
   ]
  },
  {
   "cell_type": "code",
   "execution_count": 2,
   "metadata": {},
   "outputs": [
    {
     "name": "stdout",
     "output_type": "stream",
     "text": [
      "A\n",
      "s\n",
      "h\n",
      "w\n",
      "i\n",
      "n\n",
      "S\n",
      "h\n",
      "r\n",
      "i\n",
      "y\n",
      "a\n",
      "n\n",
      "\n",
      "\n",
      "A\n",
      "s\n",
      "h\n",
      "w\n",
      "i\n",
      "n\n",
      "S\n",
      "h\n",
      "r\n",
      "i\n",
      "y\n",
      "a\n",
      "n\n"
     ]
    }
   ],
   "source": [
    "# ---------------Iteration---------------------\n",
    "\n",
    "#1. Iterate Over the string-------\n",
    "\n",
    "a=\"AshwinShriyan\"\n",
    "\n",
    "for i in a:\n",
    "    print(i)\n",
    "print(\"\\n\")\n",
    "\n",
    "#2. Iterate Over the index--------\n",
    "for i in range(0,len(a)):\n",
    "    print(a[i])"
   ]
  },
  {
   "cell_type": "code",
   "execution_count": 3,
   "metadata": {},
   "outputs": [
    {
     "name": "stdout",
     "output_type": "stream",
     "text": [
      "0\n"
     ]
    }
   ],
   "source": [
    "#---------------------------- IN OPERATOR--------------------\n",
    "s=\"Banana\"\n",
    "count=0\n",
    "for i in s:\n",
    "    if i=='b':\n",
    "        count+=1\n",
    "        \n",
    "print(count)"
   ]
  },
  {
   "cell_type": "code",
   "execution_count": 4,
   "metadata": {},
   "outputs": [
    {
     "name": "stdout",
     "output_type": "stream",
     "text": [
      "olleh\n"
     ]
    }
   ],
   "source": [
    "v=\"hello\"\n",
    "rev=v[::-1]\n",
    "print(rev)"
   ]
  },
  {
   "cell_type": "code",
   "execution_count": 5,
   "metadata": {},
   "outputs": [
    {
     "name": "stdout",
     "output_type": "stream",
     "text": [
      "False\n"
     ]
    },
    {
     "data": {
      "text/plain": [
       "True"
      ]
     },
     "execution_count": 5,
     "metadata": {},
     "output_type": "execute_result"
    }
   ],
   "source": [
    "fruit= \"Strawberry\"\n",
    "\n",
    "print('str' in fruit)\n",
    "'Str' in fruit"
   ]
  },
  {
   "cell_type": "code",
   "execution_count": 6,
   "metadata": {},
   "outputs": [
    {
     "name": "stdout",
     "output_type": "stream",
     "text": [
      "Found\n"
     ]
    }
   ],
   "source": [
    "if 'berry' in fruit:\n",
    "    print(\"Found\")"
   ]
  },
  {
   "cell_type": "code",
   "execution_count": 7,
   "metadata": {},
   "outputs": [],
   "source": [
    "#-------------------Library Functions--------------------\n",
    "\n",
    "#1. isupper()   checks all characters are in uppercase or not\n",
    "#2. islower()   checks all characters are in lowercase or not\n",
    "#3. upper()     converts all into upper case\n",
    "#4. lower()     converts all into lower case"
   ]
  },
  {
   "cell_type": "code",
   "execution_count": 10,
   "metadata": {},
   "outputs": [
    {
     "name": "stdout",
     "output_type": "stream",
     "text": [
      "      Hello Ashwin    \n",
      "      Hello Ashwin\n",
      "Hello Ashwin    \n",
      "Hello Ashwin\n"
     ]
    }
   ],
   "source": [
    "#-------------------Whitespace stripping---------\n",
    "# rstrip()  removes whitespace from right\n",
    "# lstrip()  removes whitespace from left\n",
    "# strip()   removes whitespace from both sides\n",
    "\n",
    "n='      Hello Ashwin    '\n",
    "print(n)\n",
    "\n",
    "print(n.rstrip())\n",
    "\n",
    "print(n.lstrip())\n",
    "\n",
    "print(n.strip())"
   ]
  },
  {
   "cell_type": "code",
   "execution_count": null,
   "metadata": {},
   "outputs": [],
   "source": []
  }
 ],
 "metadata": {
  "kernelspec": {
   "display_name": "Python 3",
   "language": "python",
   "name": "python3"
  },
  "language_info": {
   "codemirror_mode": {
    "name": "ipython",
    "version": 3
   },
   "file_extension": ".py",
   "mimetype": "text/x-python",
   "name": "python",
   "nbconvert_exporter": "python",
   "pygments_lexer": "ipython3",
   "version": "3.7.4"
  }
 },
 "nbformat": 4,
 "nbformat_minor": 4
}
