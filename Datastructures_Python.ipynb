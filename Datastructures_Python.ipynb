{
 "cells": [
  {
   "cell_type": "code",
   "execution_count": null,
   "metadata": {},
   "outputs": [],
   "source": [
    "#Homework\n",
    "password= input(\"Enter Password :\")\n",
    "acnt=0\n",
    "dcnt=0\n",
    "scnt=0\n",
    "l=len(password)\n",
    "\n",
    "if l<6 or l>20:\n",
    "    print(\"Please check length of the password\")\n",
    "    \n",
    "else:\n",
    "    for x in password:\n",
    "        if x.isalpha():\n",
    "            acnt=acnt+1\n",
    "            \n",
    "        elif x.isdigit():\n",
    "            dcnt=dcnt+1\n",
    "            \n",
    "        else:\n",
    "            scnt=scnt+1\n",
    "            \n",
    "            \n",
    "            \n",
    "    if acnt==0 or dcnt==0 or scnt==0:\n",
    "         print(\"Please check the format of Password! and Enter correct password\")\n",
    "            \n",
    "    else:\n",
    "        print(\"Password Accepted Successfully!!!\")\n",
    "    \n",
    "   #OR\n",
    "\n",
    "    if acnt==0:\n",
    "        print(\"Password should contain atleast one alphabet\")\n",
    "        \n",
    "    if dcnt==0:\n",
    "        print(\"Password should contain atleast one number\")\n",
    "        \n",
    "    if scnt==0:\n",
    "        print(\"Password should contain atleast one Special symbol\")\n",
    "    \n",
    "    if acnt!=0 and dcnt!=0 and scnt!=0:\n",
    "        print(\"Password accepted successfully :)\")\n",
    "\n"
   ]
  },
  {
   "cell_type": "code",
   "execution_count": null,
   "metadata": {},
   "outputs": [],
   "source": [
    "#--------------DataStructures in python--------------------\n",
    "#1.List\n",
    "#2.Tuple\n",
    "#3.Set\n",
    "#4.Dictionary\n",
    "\n",
    "#--------------------1.List------------------------\n",
    "\n",
    "l=['a','b','c','d','e','e']\n",
    "\n",
    "print(l)\n",
    "\n",
    "print(l[2])\n",
    "\n",
    "print(l[1])\n",
    "\n",
    "print(l[1:4])  #it will not include 4\n",
    "\n",
    "print(l[-2])    #indexes are [0,1,2,from lhs......,from Rhs -2,-1]"
   ]
  },
  {
   "cell_type": "code",
   "execution_count": null,
   "metadata": {},
   "outputs": [],
   "source": [
    "#Operations on list\n",
    "#1.Searching\n",
    "#2.Print\n",
    "#3.Insert\n",
    "#4.Update\n",
    "#5.Delete\n",
    "#--------------1.search---------------------------\n",
    "if 'd' in l:\n",
    "    print(\"Found\")\n",
    "    \n",
    "else:\n",
    "    print(\"Not found!\")"
   ]
  },
  {
   "cell_type": "code",
   "execution_count": null,
   "metadata": {},
   "outputs": [],
   "source": [
    "#-------------2.Print list-----------------------\n",
    "for i in l:\n",
    "    print(i)\n",
    "\n",
    "#-----------------3.insert--------------------------\n",
    "#insert at last\n",
    "l.append(\"f\")\n",
    "print(l)\n",
    "\n",
    "l.append(\"g\")\n",
    "print(l)\n",
    "\n",
    "#Add at a position\n",
    "l.insert(3,\"i\")\n",
    "print(l)\n",
    "\n",
    "#--------------------4.update--------------------------\n",
    "l[2]=\"Home\"\n",
    "print(l)\n",
    "\n",
    "\n",
    "#--------------------5.delete(), remove() , pop()--------------------------\n",
    "del l[2]  #if index is known\n",
    "\n",
    "l.remove(\"e\")  #if index is unknown\n",
    "print(l)\n",
    "\n",
    "b=[1,2,3,4,5]\n",
    "b.pop(0)\n",
    "print(b)\n"
   ]
  },
  {
   "cell_type": "code",
   "execution_count": null,
   "metadata": {},
   "outputs": [],
   "source": [
    "l"
   ]
  },
  {
   "cell_type": "code",
   "execution_count": null,
   "metadata": {},
   "outputs": [],
   "source": [
    "l.append('h')"
   ]
  },
  {
   "cell_type": "code",
   "execution_count": null,
   "metadata": {},
   "outputs": [],
   "source": [
    "l"
   ]
  },
  {
   "cell_type": "code",
   "execution_count": null,
   "metadata": {},
   "outputs": [],
   "source": [
    "l.pop(0)"
   ]
  },
  {
   "cell_type": "code",
   "execution_count": null,
   "metadata": {},
   "outputs": [],
   "source": [
    "l"
   ]
  },
  {
   "cell_type": "code",
   "execution_count": null,
   "metadata": {},
   "outputs": [],
   "source": [
    "l.pop(2)"
   ]
  },
  {
   "cell_type": "code",
   "execution_count": null,
   "metadata": {},
   "outputs": [],
   "source": [
    "l"
   ]
  },
  {
   "cell_type": "code",
   "execution_count": null,
   "metadata": {},
   "outputs": [],
   "source": [
    "l.pop()"
   ]
  },
  {
   "cell_type": "code",
   "execution_count": null,
   "metadata": {},
   "outputs": [],
   "source": [
    "l"
   ]
  },
  {
   "cell_type": "code",
   "execution_count": null,
   "metadata": {},
   "outputs": [],
   "source": [
    "#2.--------------Tuple()-----------------------\n",
    "\n",
    "t=(1,2,3,4,5,5,5)"
   ]
  },
  {
   "cell_type": "code",
   "execution_count": null,
   "metadata": {},
   "outputs": [],
   "source": [
    "type(t)"
   ]
  },
  {
   "cell_type": "code",
   "execution_count": null,
   "metadata": {},
   "outputs": [],
   "source": [
    "t"
   ]
  },
  {
   "cell_type": "code",
   "execution_count": null,
   "metadata": {},
   "outputs": [],
   "source": [
    "#Operations on tuples\n",
    "\n",
    "print(t.count(5))\n",
    "print(t.index(3))\n",
    "\n",
    "for i in t:\n",
    "    print(i,end=\" \")"
   ]
  },
  {
   "cell_type": "code",
   "execution_count": null,
   "metadata": {},
   "outputs": [],
   "source": [
    "v='Ashwin'\n",
    "s='Shriyan'\n",
    "print('My name is {} {}'.format(v,s))"
   ]
  },
  {
   "cell_type": "code",
   "execution_count": null,
   "metadata": {},
   "outputs": [],
   "source": [
    "#3.-----------Sets------------\n",
    "s={1,2,3.0,\"Ash\"}\n",
    "print(s)\n",
    "\n",
    "if \"Ash\" in s:\n",
    "    print(\"Found!\")\n",
    "else:\n",
    "    print(\"Not Found\")\n"
   ]
  },
  {
   "cell_type": "code",
   "execution_count": null,
   "metadata": {},
   "outputs": [],
   "source": [
    "for i in s:\n",
    "    print(i,end=\",\")"
   ]
  },
  {
   "cell_type": "code",
   "execution_count": null,
   "metadata": {},
   "outputs": [],
   "source": [
    "#Set difference \n",
    "\n",
    "d={'a','b','c','d'}\n",
    "e={'b','c','x','z'}\n",
    "print(d.difference(e))\n",
    "print(d.add('e'))\n",
    "a=d.copy()\n",
    "print(d.discard('e'))\n",
    "print(d.union(e))\n",
    "\n"
   ]
  },
  {
   "cell_type": "code",
   "execution_count": null,
   "metadata": {},
   "outputs": [],
   "source": [
    "x={1,2,3,4,5,6}\n",
    "y={3,4,5,7,8}\n",
    "print(x.symmetric_difference(y)) ####Symmetric diff= (A-B) U (B-A)\n",
    "print(x.intersection(y))\n",
    "print(x.isdisjoint(y))\n",
    "print(x.issubset(y))"
   ]
  },
  {
   "cell_type": "code",
   "execution_count": null,
   "metadata": {},
   "outputs": [],
   "source": [
    "#------Day 6----------------------\n",
    "s={'a','b','c','d','e'}\n",
    "#(Operations on sets)\n",
    "#insertion\n",
    "s.add('f')\n",
    "print(s)\n",
    "\n",
    "\n",
    "#delete(), remove(), discard()\n",
    "s.remove('b') # it will give ou error if element is not found in set s.remove('r')\n",
    "print(s)\n",
    "\n",
    "s.discard('r') #it will not give you keyerror even element is not found\n",
    "\n",
    "del s #it will delete whole set after deleting you cant able to use set \n",
    "\n"
   ]
  },
  {
   "cell_type": "code",
   "execution_count": null,
   "metadata": {},
   "outputs": [],
   "source": [
    "#---------Dictionaries----------\n",
    "\n",
    "d={\n",
    "    'a':'Apple',\n",
    "    'b':'Bat',\n",
    "    'c':'Call',\n",
    "    'd':'Dog'\n",
    "}\n",
    "print(d)\n",
    "\n",
    "\n",
    "if 'a' in d:\n",
    "    print(\"Key found\")\n",
    "else:\n",
    "  print(\"Key not found\")  \n",
    "\n",
    "for i in d:\n",
    "    print(i)\n",
    "    \n",
    "for i in d:\n",
    "    print(d[i])\n",
    "    \n",
    "for i in d:\n",
    "    print(i)\n",
    "    print(d[i])\n",
    "\n",
    "for i in d.values():\n",
    "    print(i)\n",
    "    \n",
    "for i,j in d.items():\n",
    "    print(i,j)"
   ]
  },
  {
   "cell_type": "code",
   "execution_count": null,
   "metadata": {},
   "outputs": [],
   "source": [
    "# For Insertion in Dictionaries\n",
    "# there is no fancy fuctions presents\n",
    "\n",
    "d['e']='Elephant'\n",
    "print(d)\n",
    "\n",
    "\n",
    "#for update\n",
    "d['b']='ball'\n",
    "print(d)\n",
    "\n",
    "#for delete an element of dictionary\n",
    "del d['e']\n",
    "print(d,\"key e will be deleted\")"
   ]
  },
  {
   "cell_type": "code",
   "execution_count": null,
   "metadata": {},
   "outputs": [],
   "source": [
    "#Write a python program to accept n numbers from users store them in a list and diplay max\n",
    "\n",
    "n= int(input(\"Enter how many nos do you want to enter:\"))\n",
    "\n",
    "l=list()\n",
    "\n",
    "for i in range(n):\n",
    "    a=int(input(\"Enter number :\"))\n",
    "    l.append(a()\n",
    "    \n",
    "    \n",
    "max=l[0]\n",
    "\n",
    "for x in l:\n",
    "    if x>max:\n",
    "        max=x\n",
    "        \n",
    "print(\"Maximum is :\",max)"
   ]
  },
  {
   "cell_type": "code",
   "execution_count": null,
   "metadata": {},
   "outputs": [],
   "source": [
    "# find min number from list\n",
    "\n",
    "n=int(input(\"Enter how many nos wants to enter into the list :\"))\n",
    "l=list()\n",
    "for i in range(n):\n",
    "    a=int(input(\"Enter number:\"))\n",
    "    l.append(a)\n",
    " \n",
    " minimum=l[0]\n",
    "for x in l:\n",
    "    if x<minimum:\n",
    "        minimum=x\n",
    "        \n",
    "print(\"minimum is :\",minimum)"
   ]
  },
  {
   "cell_type": "code",
   "execution_count": null,
   "metadata": {},
   "outputs": [],
   "source": [
    "#Write a python program to implement a fruit shop management system with following \n",
    "#Menu's:\n",
    "#1.accept the fruit name and quantity of fruit from user\n",
    "#2.diplay fruits and quantity of the fruits\n",
    "#3.update quantity(enter fruit name and quantity)(if fruit is not available then msg not available)\n",
    "#4.delete a fruit\n",
    "#5.sell a fruit(enter quantity to sell if that quantity isavailable then sell successfully and minus this from previous quantity if not then msg insufficient quantity cant sell)\n",
    "#6.Exit\n"
   ]
  },
  {
   "cell_type": "code",
   "execution_count": null,
   "metadata": {},
   "outputs": [],
   "source": [
    "#Menu driven program for calculator\n",
    "\n",
    "while True:\n",
    "    print(\"1.Addition\")\n",
    "    print(\"2.Substraction\")\n",
    "    print(\"3.Multiplication\")\n",
    "    print(\"4.Division\")\n",
    "    print(\"5.Exit\")\n",
    "    \n",
    "    ch=int(input(\"Enter your choice :\"))\n",
    "    \n",
    "    if ch==1:\n",
    "        n1= int(input(\"Enter number 1:\"))\n",
    "        \n",
    "        n2=int(input(\"Enter number 2:\"))\n",
    "        \n",
    "        res=n1+n2\n",
    "        print(\"Addition is :\",res)\n",
    "\n",
    "        \n",
    "    elif ch==2:\n",
    "            \n",
    "        n1=int(input(\"Enter number 1:\"))\n",
    "            \n",
    "        n2=int(input(\"Enter number 2:\"))\n",
    "            \n",
    "        res=n1-n2\n",
    "        print(\"Substraction is :\",res)\n",
    "        \n",
    "        \n",
    "        \n",
    "    elif ch==3:\n",
    "        \n",
    "        n1=int(input(\"Enter number 1:\"))\n",
    "        \n",
    "        n2= int(input(\"Enter number 2:\"))\n",
    "        \n",
    "        res=n1*n2\n",
    "        print(\"Multiplication is :\",res)\n",
    "        \n",
    "    elif ch==4:\n",
    "        \n",
    "        n1=int(input(\"Enter number 1:\"))\n",
    "        n2=int(input(\"Enter number 2:\"))\n",
    "        \n",
    "        res=n1/n2\n",
    "        print(\"Division is :\",res)\n",
    "\n",
    "    elif ch==5:\n",
    "        \n",
    "        break;\n",
    "    \n",
    "    else:\n",
    "        print(\"Wrong choice!!!\")\n",
    "        "
   ]
  },
  {
   "cell_type": "code",
   "execution_count": null,
   "metadata": {},
   "outputs": [
    {
     "name": "stdout",
     "output_type": "stream",
     "text": [
      "Available Fruits and their quantity{'mango': 100, 'apple': 500, 'Watermelon': 600}\n",
      "1.Sell\n",
      "2.Buy\n",
      "3.Exit\n"
     ]
    }
   ],
   "source": [
    "d={'mango':100,'apple':500,'Watermelon':600}\n",
    "while True:1\n",
    "    print(f'Available Fruits and their quantity{d}')\n",
    "    print(\"1.Sell\")\n",
    "    print(\"2.Buy\")\n",
    "    print(\"3.Exit\")\n",
    "    \n",
    "    ch=int(input(\"Enter your choice :\"))\n",
    "    \n",
    "    \n",
    "    if ch==1:\n",
    "        key=input(\"Enter name of the fruit you want to sell\")\n",
    "        qut=int(input(\"Enter the amount in KG's\"))\n",
    "        if key in d:\n",
    "            d[key]=d[key]+qut\n",
    "        else:\n",
    "            d[key]=qut\n",
    "    elif ch==2:\n",
    "        key=input(\"Enter name of the fruit you want to buy\")\n",
    "        qut=int(input(\"Enter the amount in KG's\"))\n",
    "        if key in d and d[key]!=0 and d[key]>=qut:\n",
    "            d[key]=d[key]-qut\n",
    "        else:\n",
    "            print(f'The friut {key} is currently not available or available quantity is {d[key]}!!')\n",
    "        \n",
    "    elif ch==3:\n",
    "        break;\n",
    "    else:\n",
    "        print(\"Wrong Choice!!!!!\")\n",
    "        \n",
    "        \n",
    "        \n",
    "        \n",
    "        \n",
    "        \n"
   ]
  },
  {
   "cell_type": "code",
   "execution_count": null,
   "metadata": {},
   "outputs": [],
   "source": []
  }
 ],
 "metadata": {
  "kernelspec": {
   "display_name": "Python 3",
   "language": "python",
   "name": "python3"
  },
  "language_info": {
   "codemirror_mode": {
    "name": "ipython",
    "version": 3
   },
   "file_extension": ".py",
   "mimetype": "text/x-python",
   "name": "python",
   "nbconvert_exporter": "python",
   "pygments_lexer": "ipython3",
   "version": "3.7.4"
  }
 },
 "nbformat": 4,
 "nbformat_minor": 2
}
