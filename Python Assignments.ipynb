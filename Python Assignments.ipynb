{
 "cells": [
  {
   "cell_type": "code",
   "execution_count": 1,
   "metadata": {},
   "outputs": [
    {
     "name": "stdout",
     "output_type": "stream",
     "text": [
      "Enter a number100\n",
      "<class 'str'>\n"
     ]
    }
   ],
   "source": [
    "#Difference between python2 and python3\n",
    "\n",
    "ab=input(\"Enter a number\")\n",
    "print(type(ab))\n",
    "\n"
   ]
  },
  {
   "cell_type": "code",
   "execution_count": 2,
   "metadata": {},
   "outputs": [
    {
     "name": "stdout",
     "output_type": "stream",
     "text": [
      "5.0 <class 'float'>\n",
      "5 <class 'int'>\n",
      "8.4\n",
      "<class 'float'>\n"
     ]
    }
   ],
   "source": [
    "a=3.4\n",
    "b=5\n",
    "c=a+b  #c implicitely converted to float\n",
    "d=float(b)\n",
    "print(d,type(d))\n",
    "print(b,type(b))\n",
    "print(c)\n",
    "print(type(c))\n"
   ]
  },
  {
   "cell_type": "code",
   "execution_count": 3,
   "metadata": {},
   "outputs": [
    {
     "name": "stdout",
     "output_type": "stream",
     "text": [
      "5.0 <class 'float'>\n"
     ]
    }
   ],
   "source": [
    "# Integer division is always float\n",
    "a=10\n",
    "b=2\n",
    "\n",
    "d=a/b\n",
    "print(d , type(d))"
   ]
  },
  {
   "cell_type": "code",
   "execution_count": 4,
   "metadata": {},
   "outputs": [
    {
     "name": "stdout",
     "output_type": "stream",
     "text": [
      "89.9\n",
      "Ashwin123\n"
     ]
    }
   ],
   "source": [
    "print(89.9)\n",
    "print(\"Ashwin\"+\"123\")"
   ]
  },
  {
   "cell_type": "code",
   "execution_count": 5,
   "metadata": {},
   "outputs": [
    {
     "name": "stdout",
     "output_type": "stream",
     "text": [
      "10\n",
      "8\n"
     ]
    }
   ],
   "source": [
    "iterate =10\n",
    "print(iterate)\n",
    "\n",
    "j=4\n",
    "j=j+4\n",
    "print(j)"
   ]
  },
  {
   "cell_type": "code",
   "execution_count": 6,
   "metadata": {},
   "outputs": [
    {
     "name": "stdout",
     "output_type": "stream",
     "text": [
      "5.0\n"
     ]
    }
   ],
   "source": [
    "print(1+3*2-8/4)"
   ]
  },
  {
   "cell_type": "code",
   "execution_count": 7,
   "metadata": {},
   "outputs": [
    {
     "name": "stdout",
     "output_type": "stream",
     "text": [
      "89\n"
     ]
    }
   ],
   "source": [
    "a=89.9\n",
    "print(int(a))"
   ]
  },
  {
   "cell_type": "code",
   "execution_count": 8,
   "metadata": {},
   "outputs": [
    {
     "name": "stdout",
     "output_type": "stream",
     "text": [
      "Enter Number Of Days :10\n",
      "Enter Rate Per Day :1.3\n",
      "13.0\n"
     ]
    }
   ],
   "source": [
    "days= input(\"Enter Number Of Days :\")\n",
    "rate=input(\"Enter Rate Per Day :\")\n",
    "totalpay = float(days)*float(rate)\n",
    "print(totalpay)"
   ]
  },
  {
   "cell_type": "code",
   "execution_count": 9,
   "metadata": {},
   "outputs": [
    {
     "name": "stdout",
     "output_type": "stream",
     "text": [
      "Enter Number Of Days :10\n",
      "Enter Rate Per Day :12\n",
      "120.0\n"
     ]
    }
   ],
   "source": [
    "days= float(input(\"Enter Number Of Days :\"))\n",
    "rate=float(input(\"Enter Rate Per Day :\"))\n",
    "totalpay = days*rate\n",
    "print(totalpay)"
   ]
  },
  {
   "cell_type": "code",
   "execution_count": 10,
   "metadata": {},
   "outputs": [
    {
     "name": "stdout",
     "output_type": "stream",
     "text": [
      "Enter Number Of Days :10\n",
      "Enter Rate Per Day :11\n",
      "Total pay is: 110.0\n"
     ]
    }
   ],
   "source": [
    "days= float(input(\"Enter Number Of Days :\"))\n",
    "rate=float(input(\"Enter Rate Per Day :\"))\n",
    "total_pay = days*rate\n",
    "print(\"Total pay is:\",total_pay)"
   ]
  },
  {
   "cell_type": "code",
   "execution_count": 11,
   "metadata": {},
   "outputs": [
    {
     "name": "stdout",
     "output_type": "stream",
     "text": [
      "Not equal\n"
     ]
    }
   ],
   "source": [
    "if 5!=6:\n",
    "    print(\"Not equal\")"
   ]
  },
  {
   "cell_type": "code",
   "execution_count": 14,
   "metadata": {},
   "outputs": [
    {
     "name": "stdout",
     "output_type": "stream",
     "text": [
      "Enter a number :10\n",
      "Enter a number :13\n",
      "division is : 0.7692307692307693\n"
     ]
    }
   ],
   "source": [
    "# Try- Except Clause\n",
    "\n",
    "    \n",
    "def divide():\n",
    "    a=int(input(\"Enter a number :\"))\n",
    "    b=int(input(\"Enter a number :\"))\n",
    "    try :\n",
    "        res=a/b\n",
    "        print(\"division is :\",res)\n",
    "        \n",
    "    except:\n",
    "        print(\"You are trying to divide by zero !\")\n",
    "    \n",
    "    \n",
    "divide()\n",
    "        "
   ]
  },
  {
   "cell_type": "code",
   "execution_count": 15,
   "metadata": {},
   "outputs": [
    {
     "name": "stdout",
     "output_type": "stream",
     "text": [
      "Enter a number :15\n",
      "Nice Work\n"
     ]
    }
   ],
   "source": [
    "a=input(\"Enter a number :\")\n",
    "\n",
    "try:\n",
    "    b=int(a)\n",
    "\n",
    "except:\n",
    "    b=-1\n",
    "    \n",
    "if b<0:\n",
    "    print(\"Please enter a number !\")\n",
    "    \n",
    "else:\n",
    "    print(\"Nice Work\")\n"
   ]
  },
  {
   "cell_type": "code",
   "execution_count": 18,
   "metadata": {},
   "outputs": [
    {
     "name": "stdout",
     "output_type": "stream",
     "text": [
      "Is 7\n"
     ]
    }
   ],
   "source": [
    "x=7\n",
    "if x == 7 : print('Is 7')"
   ]
  },
  {
   "cell_type": "code",
   "execution_count": 25,
   "metadata": {},
   "outputs": [
    {
     "name": "stdout",
     "output_type": "stream",
     "text": [
      "Enter Days: 15\n",
      "Enter Rate: 12\n",
      "Converted Successfully!\n"
     ]
    }
   ],
   "source": [
    "Days=input(\"Enter Days: \")\n",
    "Rate=input(\"Enter Rate: \")\n",
    "try:\n",
    "    days=int(Days)\n",
    "    rate=int(Rate)\n",
    "    \n",
    "except:\n",
    "    days=-1\n",
    "    rate=-1\n",
    "    #print(\"Error, please enter numeric input \")\n",
    "    \n",
    "if days>0 or rate>0:\n",
    "    #print(\"days and rates are \",days,rate)\n",
    "    print(\"Converted Successfully!\")\n",
    "\n",
    "else:\n",
    "    print(\"Error, please enter numeric input\")\n",
    "    \n",
    "\n",
    "    "
   ]
  },
  {
   "cell_type": "code",
   "execution_count": 26,
   "metadata": {},
   "outputs": [
    {
     "name": "stdout",
     "output_type": "stream",
     "text": [
      "Even\n",
      "Odd\n"
     ]
    }
   ],
   "source": [
    "#Functions with arguments\n",
    "\n",
    "def myfunction(num):\n",
    "    if num%2==0:\n",
    "        print(\"Even\")\n",
    "    else:\n",
    "        print(\"Odd\")\n",
    "        \n",
    "        \n",
    "myfunction(4)\n",
    "myfunction(3)"
   ]
  },
  {
   "cell_type": "code",
   "execution_count": 29,
   "metadata": {},
   "outputs": [
    {
     "name": "stdout",
     "output_type": "stream",
     "text": [
      "Hello Ashwin\n",
      "number is : 3\n"
     ]
    }
   ],
   "source": [
    "# Functions with retuen statement\n",
    "\n",
    "def myfunct():\n",
    "    return \"Hello\"\n",
    "\n",
    "def funct(num):\n",
    "    return num\n",
    "\n",
    "print(myfunct(),\"Ashwin\")\n",
    "\n",
    "print(\"number is :\",funct(3))"
   ]
  },
  {
   "cell_type": "code",
   "execution_count": 30,
   "metadata": {},
   "outputs": [
    {
     "name": "stdout",
     "output_type": "stream",
     "text": [
      "Sum is : 7\n",
      "Sum is : AshWin\n"
     ]
    }
   ],
   "source": [
    "# Functions with multiple arguments\n",
    "\n",
    "#  1. Addition\n",
    "\n",
    "def myfun(a,b):\n",
    "    added=a+b\n",
    "    return added\n",
    "\n",
    "print(\"Sum is :\",myfun(3,4))\n",
    "\n",
    "print(\"Sum is :\",myfun(\"Ash\",\"Win\"))"
   ]
  },
  {
   "cell_type": "code",
   "execution_count": 31,
   "metadata": {},
   "outputs": [
    {
     "name": "stdout",
     "output_type": "stream",
     "text": [
      "Multiplication is : 12\n"
     ]
    }
   ],
   "source": [
    "#  2.Multiplication\n",
    "\n",
    "def myfu(a,b):\n",
    "    mul=a*b\n",
    "    return mul\n",
    "\n",
    "print(\"Multiplication is :\",myfu(3,4))\n",
    "\n",
    "# print(\"Multiplication is :\",myfu(\"Ash\",\"winnn\")) .. cant multiply non int"
   ]
  },
  {
   "cell_type": "code",
   "execution_count": 34,
   "metadata": {},
   "outputs": [
    {
     "name": "stdout",
     "output_type": "stream",
     "text": [
      "Mango\n"
     ]
    }
   ],
   "source": [
    "def fun():\n",
    "    print(\"hello\")\n",
    "    \n",
    "print(\"Mango\")"
   ]
  },
  {
   "cell_type": "code",
   "execution_count": 35,
   "metadata": {},
   "outputs": [],
   "source": [
    "def fun():\n",
    "    print(\"Switch\")\n",
    "    return\n",
    "    print(\"Ditch\")"
   ]
  },
  {
   "cell_type": "code",
   "execution_count": 36,
   "metadata": {},
   "outputs": [
    {
     "name": "stdout",
     "output_type": "stream",
     "text": [
      "15\n",
      "25\n"
     ]
    }
   ],
   "source": [
    "def func(x) :\n",
    "    print(x)\n",
    "    \n",
    "func(15)\n",
    "func(25)"
   ]
  },
  {
   "cell_type": "code",
   "execution_count": 37,
   "metadata": {},
   "outputs": [
    {
     "name": "stdout",
     "output_type": "stream",
     "text": [
      "Hello\n",
      "AbcAbcAbcAbc\n"
     ]
    }
   ],
   "source": [
    "def say(message,times=1):\n",
    "    print(message*times)\n",
    "say(\"Hello\")   \n",
    "say(\"Abc\",4)"
   ]
  },
  {
   "cell_type": "code",
   "execution_count": 38,
   "metadata": {},
   "outputs": [
    {
     "name": "stdout",
     "output_type": "stream",
     "text": [
      "Enter Days:15\n",
      "Enter Rate:16\n",
      "pay: 240.0\n"
     ]
    }
   ],
   "source": [
    "def computeTotalpay(days ,rate):\n",
    "    Pay=days*rate\n",
    "    return Pay\n",
    "\n",
    "d=input(\"Enter Days:\")\n",
    "r=input(\"Enter Rate:\")\n",
    "\n",
    "try:\n",
    "    days=float(d)\n",
    "    rate=float(r)\n",
    "    print(\"pay:\",computeTotalpay(days,rate))\n",
    "   \n",
    "    \n",
    "except:\n",
    "    print(\"Error, please enter numeric input\")\n",
    "    \n",
    "    \n",
    "\n",
    "    \n",
    "\n"
   ]
  },
  {
   "cell_type": "code",
   "execution_count": 39,
   "metadata": {},
   "outputs": [
    {
     "name": "stdout",
     "output_type": "stream",
     "text": [
      "Enter No of Days:15\n",
      "Enter Rate:13\n",
      "Rate : 195.0\n"
     ]
    }
   ],
   "source": [
    "def Totalpay(days,rate):\n",
    "    return days*rate\n",
    "\n",
    "\n",
    "D=input(\"Enter No of Days:\")\n",
    "R=input(\"Enter Rate:\")\n",
    "\n",
    "try:\n",
    "    day=float(D)\n",
    "    rat=float(R)\n",
    "    print(\"Rate :\",Totalpay(day,rat))\n",
    "    \n",
    "except:\n",
    "    print(\"Please Enter Numeric Values\")\n",
    "    "
   ]
  },
  {
   "cell_type": "code",
   "execution_count": null,
   "metadata": {},
   "outputs": [],
   "source": [
    "count=0\n",
    "while count<5:\n",
    "    print(\"Ashwin\")\n",
    "    count=count+1\n",
    "    \n",
    "\n"
   ]
  },
  {
   "cell_type": "code",
   "execution_count": null,
   "metadata": {},
   "outputs": [],
   "source": [
    "while True:\n",
    "    x=input(\"Enter :\")\n",
    "    if x=='Done':\n",
    "        break\n",
    "    print(x)\n",
    "print(\"Done !\")    \n",
    "    \n"
   ]
  },
  {
   "cell_type": "code",
   "execution_count": null,
   "metadata": {},
   "outputs": [],
   "source": [
    "while True:\n",
    "    line= input(\"> \")\n",
    "    if line=='#':\n",
    "        continue\n",
    "        \n",
    "    if line=='Done':\n",
    "        break\n",
    "        \n",
    "    print(line)\n",
    "    \n",
    "print(\"Done!!!\")\n",
    "        \n",
    "    "
   ]
  },
  {
   "cell_type": "code",
   "execution_count": null,
   "metadata": {},
   "outputs": [],
   "source": [
    "# For Loop\n",
    "print(\"Type 1\")\n",
    "for i in [2,4,6,8,10]:\n",
    "    print(i)\n",
    "\n",
    "print(\"Type 2\")\n",
    "for i in range(0,6):\n",
    "    print(i)"
   ]
  },
  {
   "cell_type": "code",
   "execution_count": null,
   "metadata": {},
   "outputs": [],
   "source": [
    "max=0\n",
    "for i in [2,7,3,10,7,8]:\n",
    "    if i>max:\n",
    "        max=i\n",
    "        \n",
    "    \n",
    "print(max)"
   ]
  },
  {
   "cell_type": "code",
   "execution_count": null,
   "metadata": {},
   "outputs": [],
   "source": [
    "# Countig no of elements of list using forloop\n",
    "count=0\n",
    "for i in [4,3,2,1,6,75,8]:\n",
    "    count+=1\n",
    "    \n",
    "print(\"Total Elements Are :\",count)"
   ]
  },
  {
   "cell_type": "code",
   "execution_count": null,
   "metadata": {},
   "outputs": [],
   "source": [
    "# Countig no of elements of list using forloop\n",
    "count=0\n",
    "sum =0\n",
    "for i in [4,3,2]:\n",
    "    count+=1\n",
    "    sum=sum+i\n",
    "avg=sum/count\n",
    "print(\"Average is :\",avg)"
   ]
  },
  {
   "cell_type": "code",
   "execution_count": null,
   "metadata": {},
   "outputs": [],
   "source": [
    "# Searching in list using forloop (search 3)\n",
    "\n",
    "for i in [2,3,4,5,6,1,8,0]:\n",
    "    if i==3:\n",
    "        print(\"3 is found\")\n",
    "    else:\n",
    "        print(i)"
   ]
  },
  {
   "cell_type": "code",
   "execution_count": 3,
   "metadata": {},
   "outputs": [
    {
     "name": "stdout",
     "output_type": "stream",
     "text": [
      "Before\n",
      "Smallest value is : -1\n",
      "After smallest value\n"
     ]
    }
   ],
   "source": [
    "# find smallest number\n",
    "\n",
    "min= None\n",
    "print(\"Before\")\n",
    "for i in [3,4,7,9,10,2]:\n",
    "    if min== None:\n",
    "        min=i\n",
    "        \n",
    "    elif i<min:\n",
    "        min=i\n",
    "        \n",
    "print(\"Smallest value is :\",min)\n",
    "print(\"After smallest value\")"
   ]
  },
  {
   "cell_type": "code",
   "execution_count": null,
   "metadata": {},
   "outputs": [],
   "source": [
    "# DONT RUN THIS\n",
    "n=50\n",
    "while n>0:\n",
    "    print(n)\n",
    "    \n",
    "print(\"Hello\")"
   ]
  },
  {
   "cell_type": "code",
   "execution_count": 2,
   "metadata": {},
   "outputs": [
    {
     "name": "stdout",
     "output_type": "stream",
     "text": [
      "B !\n",
      "0\n"
     ]
    }
   ],
   "source": [
    "N=0\n",
    "count=0\n",
    "while N>0:\n",
    "    count=count+1\n",
    "    print(\"Ash\")\n",
    "    print(\"Win\")\n",
    "    \n",
    "print(\"A !\")\n",
    "print(count)"
   ]
  },
  {
   "cell_type": "code",
   "execution_count": 5,
   "metadata": {},
   "outputs": [
    {
     "name": "stdout",
     "output_type": "stream",
     "text": [
      "Smallest value is : -1\n"
     ]
    }
   ],
   "source": [
    "min= -1\n",
    "#print(\"Before\")\n",
    "for i in [3,4,7,9,10,2]:\n",
    "    if i< min:\n",
    "        min=i\n",
    "        \n",
    "print(\"Smallest value is :\",min)"
   ]
  },
  {
   "cell_type": "code",
   "execution_count": null,
   "metadata": {},
   "outputs": [
    {
     "name": "stdout",
     "output_type": "stream",
     "text": [
      "Enter Number :\n",
      "Enter Number or exit\n",
      "Enter Number :\n",
      "Enter Number or exit\n",
      "Enter Number :\n",
      "Enter Number or exit\n",
      "Enter Number :\n",
      "Enter Number or exit\n"
     ]
    }
   ],
   "source": [
    "sum =0\n",
    "count=0\n",
    "avg=0\n",
    "while True :\n",
    "    x=input(\"Enter Number :\")\n",
    "    if x==\"Exit\":\n",
    "        break\n",
    "    else:\n",
    "        try:\n",
    "            xx=float(x)\n",
    "            sum=sum+xx\n",
    "            count=count+1\n",
    "        except :\n",
    "            print(\"Enter Number or exit\")\n",
    "print(\"Sum :\",sum)\n",
    "print(\"Total :\",count)\n",
    "print(\"Average :\",sum/count)\n"
   ]
  },
  {
   "cell_type": "markdown",
   "metadata": {},
   "source": [
    "sum =0\n",
    "count=0\n",
    "avg=0\n",
    "while True :\n",
    "    x=input(\"Enter Number :\")\n",
    "    if x==\"Exit\":\n",
    "        break\n",
    "    else:\n",
    "        try:\n",
    "            xx=float(x)\n",
    "        except :\n",
    "            print(\"Enter Number or exit\")\n",
    "            continue\n",
    "            sum=sum+xx\n",
    "            count=count+1\n",
    "print(\"Sum :\",sum)\n",
    "print(\"Total :\",count)\n",
    "print(\"Average :\",sum/count)\n"
   ]
  },
  {
   "cell_type": "code",
   "execution_count": 13,
   "metadata": {},
   "outputs": [
    {
     "name": "stdout",
     "output_type": "stream",
     "text": [
      "Enter Number :5\n",
      "Enter Number :7\n",
      "Enter Number :8\n",
      "Enter Number :Exit\n",
      "Sum : 0\n",
      "Total : 0\n"
     ]
    },
    {
     "ename": "ZeroDivisionError",
     "evalue": "division by zero",
     "output_type": "error",
     "traceback": [
      "\u001b[1;31m---------------------------------------------------------------------------\u001b[0m",
      "\u001b[1;31mZeroDivisionError\u001b[0m                         Traceback (most recent call last)",
      "\u001b[1;32m<ipython-input-13-05d133743ad9>\u001b[0m in \u001b[0;36m<module>\u001b[1;34m\u001b[0m\n\u001b[0;32m     18\u001b[0m \u001b[0mprint\u001b[0m\u001b[1;33m(\u001b[0m\u001b[1;34m\"Sum :\"\u001b[0m\u001b[1;33m,\u001b[0m\u001b[0msum\u001b[0m\u001b[1;33m)\u001b[0m\u001b[1;33m\u001b[0m\u001b[1;33m\u001b[0m\u001b[0m\n\u001b[0;32m     19\u001b[0m \u001b[0mprint\u001b[0m\u001b[1;33m(\u001b[0m\u001b[1;34m\"Total :\"\u001b[0m\u001b[1;33m,\u001b[0m\u001b[0mcount\u001b[0m\u001b[1;33m)\u001b[0m\u001b[1;33m\u001b[0m\u001b[1;33m\u001b[0m\u001b[0m\n\u001b[1;32m---> 20\u001b[1;33m \u001b[0mprint\u001b[0m\u001b[1;33m(\u001b[0m\u001b[1;34m\"Average :\"\u001b[0m\u001b[1;33m,\u001b[0m\u001b[0msum\u001b[0m\u001b[1;33m/\u001b[0m\u001b[0mcount\u001b[0m\u001b[1;33m)\u001b[0m\u001b[1;33m\u001b[0m\u001b[1;33m\u001b[0m\u001b[0m\n\u001b[0m",
      "\u001b[1;31mZeroDivisionError\u001b[0m: division by zero"
     ]
    }
   ],
   "source": []
  },
  {
   "cell_type": "code",
   "execution_count": null,
   "metadata": {},
   "outputs": [],
   "source": []
  }
 ],
 "metadata": {
  "kernelspec": {
   "display_name": "Python 3",
   "language": "python",
   "name": "python3"
  },
  "language_info": {
   "codemirror_mode": {
    "name": "ipython",
    "version": 3
   },
   "file_extension": ".py",
   "mimetype": "text/x-python",
   "name": "python",
   "nbconvert_exporter": "python",
   "pygments_lexer": "ipython3",
   "version": "3.7.4"
  }
 },
 "nbformat": 4,
 "nbformat_minor": 4
}
