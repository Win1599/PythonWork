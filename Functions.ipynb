{
 "cells": [
  {
   "cell_type": "code",
   "execution_count": 1,
   "metadata": {},
   "outputs": [
    {
     "name": "stdout",
     "output_type": "stream",
     "text": [
      "Hello !!!\n",
      "How are you?\n"
     ]
    }
   ],
   "source": [
    "#---------Custom Fuctions in Python--------\n",
    "\n",
    "def printfunction():    #declaration\n",
    "    print(\"Hello !!!\")\n",
    "    print(\"How are you?\")\n",
    "    \n",
    "printfunction()         #calling\n"
   ]
  },
  {
   "cell_type": "code",
   "execution_count": 2,
   "metadata": {},
   "outputs": [
    {
     "name": "stdout",
     "output_type": "stream",
     "text": [
      "Enter number1 :4\n",
      "Enter number2 :5\n",
      "Addition is : 9\n"
     ]
    }
   ],
   "source": [
    "# write a python program to accept two numbers from user and display their addition using function\n",
    "\n",
    "def add():\n",
    "    n1=int(input(\"Enter number1 :\"))\n",
    "    n2=int(input(\"Enter number2 :\"))\n",
    "    sum=n1+n2\n",
    "    print(\"Addition is :\",sum)\n",
    "    \n",
    "add()"
   ]
  },
  {
   "cell_type": "code",
   "execution_count": 3,
   "metadata": {},
   "outputs": [
    {
     "name": "stdout",
     "output_type": "stream",
     "text": [
      "Enter value of a :5\n",
      "enter value of b :5\n",
      "Both are same\n"
     ]
    }
   ],
   "source": [
    "#Write a python program to accept two numbers from user and display the max number using function\n",
    "\n",
    "def max():\n",
    "    a=int(input(\"Enter value of a :\"))\n",
    "    b=int(input(\"enter value of b :\"))\n",
    "    \n",
    "    if a>b:\n",
    "        print(\"a is max \")\n",
    "    elif b>a:\n",
    "        print(\"b is max\")\n",
    "    else:\n",
    "        print(\"Both are same\")\n",
    "max()"
   ]
  },
  {
   "cell_type": "code",
   "execution_count": 4,
   "metadata": {},
   "outputs": [
    {
     "name": "stdout",
     "output_type": "stream",
     "text": [
      "Enter a num1 :2\n",
      "Enter a num2 :4\n",
      "sum is : 6\n"
     ]
    }
   ],
   "source": [
    "# to eliminate print statements from the function(coz its not correct logically) we have to pass Parameters to function\n",
    "\n",
    "#-------------------function--------------------------------------------------------\n",
    "def sum(a,b):  #formal parameters a , b\n",
    "    c=a+b\n",
    "    print(\"sum is :\",c)\n",
    "    \n",
    "#------------------take input from user outside the function-------------------------\n",
    "n1= int(input(\"Enter a num1 :\"))\n",
    "n2=int(input(\"Enter a num2 :\"))\n",
    "\n",
    "#----------------call function with actual parameters--------------------------------\n",
    "sum(n1,n2)"
   ]
  },
  {
   "cell_type": "code",
   "execution_count": 8,
   "metadata": {},
   "outputs": [
    {
     "name": "stdout",
     "output_type": "stream",
     "text": [
      "Enter x :5\n",
      "Enter y :6\n",
      "Enter z :6\n",
      "b is Maximum\n"
     ]
    }
   ],
   "source": [
    "#-------------to calculate max from 3 numbers-------------\n",
    "\n",
    "def maximum(a,b,c):\n",
    "    if a>=b and a>=c:\n",
    "        print(\"a is Maximum\")\n",
    "        \n",
    "    elif b>=a and b>=c:\n",
    "        print(\"b is Maximum\")\n",
    "        \n",
    "    elif a==b and a==c:\n",
    "        print(\"a ,b ,c are same please enter valid numbers! \")\n",
    "        \n",
    "    else:\n",
    "        print(\"c is Maximum\")\n",
    "        \n",
    "        \n",
    "x=int(input(\"Enter x :\"))\n",
    "y=int(input(\"Enter y :\"))\n",
    "z=int(input(\"Enter z :\"))\n",
    "maximum(x,y,z)"
   ]
  },
  {
   "cell_type": "code",
   "execution_count": 16,
   "metadata": {},
   "outputs": [
    {
     "name": "stdout",
     "output_type": "stream",
     "text": [
      "Enter x :7\n",
      "Enter y :6\n",
      "Enter z :5\n",
      "Maximum is : 7\n"
     ]
    }
   ],
   "source": [
    "#---------------now eliminate print function and use return instead; return throws value n we have to catch it in variables------------------\n",
    "\n",
    "def maximum(a,b,c):\n",
    "    if a>=b and a>=c:\n",
    "        return a\n",
    "        print(\"Hello\")  # it wont be print (\n",
    "        after return stmt)\n",
    "        \n",
    "    elif b>=a and b>=c:\n",
    "        return b\n",
    "        \n",
    "    #elif a==b and a==c:\n",
    "       # return \"same\"\n",
    "        \n",
    "    else:\n",
    "        return c\n",
    "        \n",
    "        \n",
    "x=int(input(\"Enter x :\"))\n",
    "y=int(input(\"Enter y :\"))\n",
    "z=int(input(\"Enter z :\"))\n",
    "res=maximum(x,y,z)        #here we received value from return stmt\n",
    "print(\"Maximum is :\",res)"
   ]
  },
  {
   "cell_type": "code",
   "execution_count": 2,
   "metadata": {},
   "outputs": [
    {
     "name": "stdout",
     "output_type": "stream",
     "text": [
      "7\n",
      "13\n"
     ]
    }
   ],
   "source": [
    "#-----------------------Day8 ----------------------------\n",
    "#Lambda Functions\n",
    "\n",
    "x= lambda a,b : a+b\n",
    "\n",
    "print(x(3,4))\n",
    "\n",
    "\n",
    "y= lambda a,b : a*a + b*b\n",
    "\n",
    "print(y(2,3))"
   ]
  },
  {
   "cell_type": "code",
   "execution_count": 4,
   "metadata": {},
   "outputs": [
    {
     "name": "stdout",
     "output_type": "stream",
     "text": [
      "36\n",
      "36\n"
     ]
    }
   ],
   "source": [
    "#Write a Lambda function to accept 3 numbers from user and diplay addition of their cubes\n",
    "\n",
    "z= lambda a,b,c :a*a*a + b*b*b + c*c*c\n",
    "v=lambda p,q,r : p**3+q**3+r**3  #raiseto operator\n",
    "print(v(1,2,3))\n",
    "print(z(1,2,3))"
   ]
  },
  {
   "cell_type": "code",
   "execution_count": null,
   "metadata": {},
   "outputs": [],
   "source": []
  }
 ],
 "metadata": {
  "kernelspec": {
   "display_name": "Python 3",
   "language": "python",
   "name": "python3"
  },
  "language_info": {
   "codemirror_mode": {
    "name": "ipython",
    "version": 3
   },
   "file_extension": ".py",
   "mimetype": "text/x-python",
   "name": "python",
   "nbconvert_exporter": "python",
   "pygments_lexer": "ipython3",
   "version": "3.7.4"
  }
 },
 "nbformat": 4,
 "nbformat_minor": 2
}
